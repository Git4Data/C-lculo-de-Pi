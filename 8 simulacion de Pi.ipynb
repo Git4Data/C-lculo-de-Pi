{
 "cells": [
  {
   "cell_type": "markdown",
   "id": "6f4eebce-bc31-43f8-89a9-555b211ef403",
   "metadata": {},
   "source": [
    "Vamos a calcular el valor de pi a partir de las gotas de lluvia que caen en una baldosa que tiene un circulo dentro\n",
    "Para imaginar el cuadrado tomo en los ejes cartesianos del -1 al 1 tanto en x como en y\n",
    "el 0 es el punto cenrtral\n",
    "se que el radio es 1, y por el teorema de pitagoras puedo calcular la hipotenusa del triangulo que forma cada punto de la\n",
    "circunferencia. (x cuadrado + y cuadrado = hipotenusa)\n",
    "luego solo uso la condicion de que si x cuadrado + y cuadrado es menor que 1 cae dentro del circulo y se agrega al contador\n",
    "Al final multiplico por 4 porque el area del circulo es pi*radio al cuadrado. y como el area es 2 x 2 (lo defini de -1 a 1) =4\n"
   ]
  },
  {
   "cell_type": "code",
   "execution_count": 4,
   "id": "139b1d99-3e2d-41b3-b97c-12eb7577d5f2",
   "metadata": {},
   "outputs": [
    {
     "data": {
      "text/plain": [
       "3.1308"
      ]
     },
     "execution_count": 4,
     "metadata": {},
     "output_type": "execute_result"
    }
   ],
   "source": [
    "import random\n",
    "from random import uniform\n",
    "\n",
    "rain = 10000\n",
    "counter = 0\n",
    "for _ in range(rain):\n",
    "  x = uniform(-1,1)\n",
    "  y = uniform(-1,1)\n",
    "  if x**2 + y**2 <= 1:\n",
    "    counter= counter + 1\n",
    "pi = counter/rain *4\n",
    "pi"
   ]
  },
  {
   "cell_type": "code",
   "execution_count": null,
   "id": "111a6308-aa05-4cd6-b988-dd93387477a9",
   "metadata": {},
   "outputs": [],
   "source": []
  }
 ],
 "metadata": {
  "kernelspec": {
   "display_name": "Python [conda env:base] *",
   "language": "python",
   "name": "conda-base-py"
  },
  "language_info": {
   "codemirror_mode": {
    "name": "ipython",
    "version": 3
   },
   "file_extension": ".py",
   "mimetype": "text/x-python",
   "name": "python",
   "nbconvert_exporter": "python",
   "pygments_lexer": "ipython3",
   "version": "3.12.7"
  }
 },
 "nbformat": 4,
 "nbformat_minor": 5
}
